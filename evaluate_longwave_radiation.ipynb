{
 "cells": [
  {
   "cell_type": "code",
   "execution_count": 1,
   "id": "4e030d51-53a2-4b53-b232-d33c6ff907e0",
   "metadata": {},
   "outputs": [],
   "source": [
    "import numpy as np\n",
    "import matplotlib.pyplot as plt\n",
    "\n",
    "from julia.api import Julia\n",
    "jl = Julia(compiled_modules=False)\n",
    "from julia import speedy_physics as radiation_jl\n",
    "\n",
    "import sys\n",
    "sys.path.append(\"models/speedy_physics.f77\")\n",
    "import longwave_radiation_down, longwave_radiation_up"
   ]
  },
  {
   "cell_type": "markdown",
   "id": "52a12139",
   "metadata": {},
   "source": [
    "## Compare funcs between fortran and julia"
   ]
  },
  {
   "cell_type": "markdown",
   "id": "d4a0bfae",
   "metadata": {},
   "source": [
    "### Downwelling longwave radiation"
   ]
  },
  {
   "cell_type": "code",
   "execution_count": 2,
   "id": "cf9714e2",
   "metadata": {},
   "outputs": [],
   "source": [
    "# Shared\n",
    "ngp = 4608\n",
    "nlev = 8\n",
    "sbc  = 5.67e-8\n",
    "emisfc = 0.98\n",
    "epslw  =  0.05\n",
    "wvi = np.full((nlev, 2), 1.)\n",
    "tau2 = np.full((ngp, nlev, 4), 0.5)\n",
    "ta = np.full((ngp, nlev), 300.)\n",
    "ts = np.full(ngp, 320.)\n",
    "\n",
    "# Init F77 common data\n",
    "longwave_radiation_down.phycon.sbc  = sbc\n",
    "longwave_radiation_down.radcon.emisfc = emisfc\n",
    "longwave_radiation_down.radcon.epslw  =  epslw\n",
    "longwave_radiation_down.fsiglt.wvi = wvi\n",
    "longwave_radiation_down.radfld.tau2 = tau2\n",
    "\n",
    "# Inputs F77 only\n",
    "imode = -1 # Downwelling only\n",
    "\n",
    "longwave_radiation_down_f_data = imode, ta, ts\n",
    "\n",
    "# Inputs Julia\n",
    "fband = radiation_jl.radset()\n",
    "longwave_radiation_down_jl_data = ta, fband, epslw, emisfc, sbc, wvi, tau2, ngp\n",
    "\n",
    "fsfcd_f, _, _, _, dfabs_f = longwave_radiation_down.radlw(*longwave_radiation_down_f_data)\n",
    "fsfcd_jl, dfabs_jl, flux_jl, st4a_jl = radiation_jl.radlw_down(*longwave_radiation_down_jl_data)\n",
    "\n",
    "np.testing.assert_allclose(fsfcd_f, fsfcd_jl, rtol=1e-06, atol=1e-6)\n",
    "np.testing.assert_allclose(dfabs_f, dfabs_jl, rtol=1e-06, atol=1e-6)"
   ]
  },
  {
   "cell_type": "markdown",
   "id": "a451c4ee",
   "metadata": {},
   "source": [
    "### Upwelling longwave radiation"
   ]
  },
  {
   "cell_type": "code",
   "execution_count": 3,
   "id": "76662575",
   "metadata": {},
   "outputs": [],
   "source": [
    "# Shared\n",
    "ngp = 4608\n",
    "nlev = 8\n",
    "sbc  = 5.67e-8\n",
    "emisfc = 0.98\n",
    "epslw  =  0.05\n",
    "wvi = np.full((nlev, 2), 0.5)\n",
    "tau2 = np.full((ngp, nlev, 4), 0.5)\n",
    "stratc = np.full((ngp, 2), 0.5)\n",
    "dsig = np.full(nlev, 0.5)\n",
    "ta = np.full((ngp, nlev), 300.)\n",
    "ts = np.full(ngp, 320.)\n",
    "fsfcu = radiation_jl.compute_bbe(ts, ngp)\n",
    "\n",
    "# Init F77 common data\n",
    "longwave_radiation_up.phycon.sbc  = sbc\n",
    "longwave_radiation_up.radcon.emisfc = emisfc\n",
    "longwave_radiation_up.radcon.epslw  =  epslw\n",
    "longwave_radiation_up.radfld.stratc = stratc\n",
    "longwave_radiation_up.fsiglt.dsig = dsig\n",
    "longwave_radiation_up.radfld.tau2 = tau2\n",
    "longwave_radiation_up.radfld.st4a = st4a_jl\n",
    "longwave_radiation_up.radfld.flux = flux_jl\n",
    "\n",
    "# Inputs F77\n",
    "imode = 1 # Upwelling only\n",
    "longwave_radiation_up_f_data = imode, ta, ts, fsfcd_f, fsfcu, dfabs_f\n",
    "\n",
    "# Inputs Julia\n",
    "fband = radiation_jl.radset()\n",
    "longwave_radiation_up_jl_data = ta, ts, fsfcd_jl, fsfcu, dfabs_jl, fband, flux_jl, st4a_jl, emisfc, epslw, dsig, tau2, stratc, ngp\n",
    "\n",
    "fsfc_f, ftop_f = longwave_radiation_up.radlw(*longwave_radiation_up_f_data)\n",
    "fsfc_jl, ftop_jl = radiation_jl.radlw_up(*longwave_radiation_up_jl_data)\n",
    "\n",
    "np.testing.assert_allclose(fsfc_f, fsfc_jl, rtol=1e-06, atol=1e-6)\n",
    "np.testing.assert_allclose(ftop_f, ftop_jl, rtol=1e-06, atol=1e-6)"
   ]
  },
  {
   "cell_type": "markdown",
   "id": "0376b409",
   "metadata": {},
   "source": [
    "## Generate I/Os for Julia unit tests"
   ]
  },
  {
   "cell_type": "code",
   "execution_count": 4,
   "id": "70f96c29",
   "metadata": {},
   "outputs": [
    {
     "name": "stdout",
     "output_type": "stream",
     "text": [
      "[0.19498351 0.12541235 0.33106664 0.2985375 ]\n"
     ]
    }
   ],
   "source": [
    "# Checking the last band will suffice.\n",
    "fband = radiation_jl.radset()\n",
    "print(fband[-1, :])"
   ]
  },
  {
   "cell_type": "code",
   "execution_count": 5,
   "id": "5b9a9bc2",
   "metadata": {},
   "outputs": [
    {
     "name": "stdout",
     "output_type": "stream",
     "text": [
      "[447.29436216]\n",
      "[[ -71.86727228 -182.21961386  -91.10980693  -45.55490346  -22.77745173\n",
      "   -11.38872587   -5.69436293  -25.35141147]]\n"
     ]
    }
   ],
   "source": [
    "ngp = 1\n",
    "nlev = 8\n",
    "\n",
    "ta = np.full((ngp, nlev), 300.)\n",
    "fband = radiation_jl.radset()\n",
    "epslw  =  0.05\n",
    "emisfc = 0.98\n",
    "sbc  = 5.67e-8\n",
    "wvi = np.full((nlev, 2), 0.5)\n",
    "tau2 = np.full((ngp, nlev, 4), 0.5)\n",
    "\n",
    "fsfcd, dfabs, flux, st4a = radiation_jl.radlw_down(ta, fband, epslw, emisfc, sbc, wvi, tau2, ngp)\n",
    "print(fsfcd)\n",
    "print(dfabs)"
   ]
  },
  {
   "cell_type": "code",
   "execution_count": 6,
   "id": "b7120293",
   "metadata": {},
   "outputs": [
    {
     "name": "stdout",
     "output_type": "stream",
     "text": [
      "[582.65174016]\n"
     ]
    }
   ],
   "source": [
    "ngp = 1\n",
    "ts = np.full(ngp, 320.)\n",
    "fsfcu = radiation_jl.compute_bbe(ts, ngp)\n",
    "print(fsfcu)"
   ]
  },
  {
   "cell_type": "code",
   "execution_count": 7,
   "id": "2966e868",
   "metadata": {},
   "outputs": [
    {
     "name": "stdout",
     "output_type": "stream",
     "text": [
      "[135.357378]\n",
      "[667.24601389]\n"
     ]
    }
   ],
   "source": [
    "ngp = 1\n",
    "nlev = 8\n",
    "\n",
    "ta = np.full((ngp, nlev), 300.)\n",
    "ts = np.full(ngp, 320.)\n",
    "fsfcu = radiation_jl.compute_bbe(ts, ngp)\n",
    "fband = radiation_jl.radset()\n",
    "emisfc = 0.98\n",
    "epslw  =  0.05\n",
    "sbc  = 5.67e-8\n",
    "dsig = np.full(nlev, 0.5)\n",
    "tau2 = np.full((ngp, nlev, 4), 0.5)\n",
    "stratc = np.full((ngp, 2), 0.5)\n",
    "wvi = np.full((nlev, 2), 0.5)\n",
    "fsfcd, dfabs, flux, st4a = radiation_jl.radlw_down(ta, fband, epslw, emisfc, sbc, wvi, tau2, ngp)\n",
    "\n",
    "fsfc, ftop = radiation_jl.radlw_up(ta, ts, fsfcd, fsfcu, dfabs, fband, flux, st4a, emisfc, epslw, dsig, tau2, stratc, ngp)\n",
    "print(fsfc)\n",
    "print(ftop)"
   ]
  }
 ],
 "metadata": {
  "kernelspec": {
   "display_name": "Python 3 (ipykernel)",
   "language": "python",
   "name": "python3"
  },
  "language_info": {
   "codemirror_mode": {
    "name": "ipython",
    "version": 3
   },
   "file_extension": ".py",
   "mimetype": "text/x-python",
   "name": "python",
   "nbconvert_exporter": "python",
   "pygments_lexer": "ipython3",
   "version": "3.10.6"
  },
  "vscode": {
   "interpreter": {
    "hash": "d1fe9b55c5c8f8fb95eaf776c8961860bd6b52a435b66fe1b020a0109d2b2e37"
   }
  }
 },
 "nbformat": 4,
 "nbformat_minor": 5
}
